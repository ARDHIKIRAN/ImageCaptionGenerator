{
  "nbformat": 4,
  "nbformat_minor": 0,
  "metadata": {
    "colab": {
      "provenance": []
    },
    "kernelspec": {
      "name": "python3",
      "display_name": "Python 3"
    },
    "language_info": {
      "name": "python"
    }
  },
  "cells": [
    {
      "cell_type": "markdown",
      "source": [],
      "metadata": {
        "id": "gm_TzpAajlSP"
      }
    },
    {
      "cell_type": "code",
      "execution_count": null,
      "metadata": {
        "colab": {
          "base_uri": "https://localhost:8080/"
        },
        "id": "Fg_L-75aj9NN",
        "outputId": "6e3ca997-2c0e-448d-d442-8fdbf6b70360"
      },
      "outputs": [
        {
          "output_type": "stream",
          "name": "stdout",
          "text": [
            "         F1        F2        F3        F4\n",
            "0  0.494602  0.228083  0.255474  0.396330\n",
            "1  0.377315  0.996574  0.408197  0.771894\n",
            "2  0.760537  0.310009  0.346541  0.351765\n",
            "3  0.145467  0.972665  0.909178  0.559957\n"
          ]
        }
      ],
      "source": [
        "# Task 1. Create a Pandas Dataframes (dataframes as df) with numpy random values (4 features and 4 observation)\n",
        "import pandas as pd\n",
        "import numpy as np\n",
        "\n",
        "np.random.seed(50)\n",
        "data = np.random.rand(4, 4)\n",
        "df = pd.DataFrame(data, columns=['F1', 'F2', 'F3', 'F4'])\n",
        "print(df)\n",
        "\n"
      ]
    },
    {
      "cell_type": "code",
      "source": [
        "# Task 2. Rename the task 1 'df' datframes columns name to 'ramdom value 1' ,'random value 2','random value 3','random value 4'\n",
        "df.rename(columns={'F1': 'random value 1',\n",
        "                   'F2': 'random value 2',\n",
        "                   'F3': 'random value 3',\n",
        "                   'F4': 'random value 4'}, inplace=True)\n",
        "print(df)"
      ],
      "metadata": {
        "colab": {
          "base_uri": "https://localhost:8080/"
        },
        "id": "Fue05iZ_a-Gl",
        "outputId": "6619d5ec-3e6d-491a-f720-6c8df22cbdc8"
      },
      "execution_count": null,
      "outputs": [
        {
          "output_type": "stream",
          "name": "stdout",
          "text": [
            "   random value 1  random value 2  random value 3  random value 4\n",
            "0        0.494602        0.228083        0.255474        0.396330\n",
            "1        0.377315        0.996574        0.408197        0.771894\n",
            "2        0.760537        0.310009        0.346541        0.351765\n",
            "3        0.145467        0.972665        0.909178        0.559957\n"
          ]
        }
      ]
    },
    {
      "cell_type": "code",
      "source": [
        "# Task 3 : find the descriptive statistics of the df dataframes\n",
        "statistics_describe = df.describe()\n",
        "print(statistics_describe)"
      ],
      "metadata": {
        "colab": {
          "base_uri": "https://localhost:8080/"
        },
        "id": "h551cIY6b6gR",
        "outputId": "9d8c403e-1d2a-4aa6-8d4f-62d7092e9e24"
      },
      "execution_count": null,
      "outputs": [
        {
          "output_type": "stream",
          "name": "stdout",
          "text": [
            "       random value 1  random value 2  random value 3  random value 4\n",
            "count        4.000000        4.000000        4.000000        4.000000\n",
            "mean         0.444480        0.626833        0.479848        0.519986\n",
            "std          0.255815        0.414603        0.293015        0.190302\n",
            "min          0.145467        0.228083        0.255474        0.351765\n",
            "25%          0.319353        0.289528        0.323774        0.385189\n",
            "50%          0.435958        0.641337        0.377369        0.478144\n",
            "75%          0.561085        0.978642        0.533443        0.612941\n",
            "max          0.760537        0.996574        0.909178        0.771894\n"
          ]
        }
      ]
    },
    {
      "cell_type": "code",
      "source": [
        "# Task 4 : Check for the null values in 'df' and find the data type of the columns\n",
        "null_values = df.isnull().sum()\n",
        "data_types = df.dtypes\n",
        "print(null_values)\n",
        "print(data_types)"
      ],
      "metadata": {
        "colab": {
          "base_uri": "https://localhost:8080/"
        },
        "id": "rvELYKtHcemG",
        "outputId": "ca1b10f2-f5ca-4ce3-ea02-2308290aa27b"
      },
      "execution_count": null,
      "outputs": [
        {
          "output_type": "stream",
          "name": "stdout",
          "text": [
            "random value 1    0\n",
            "random value 2    0\n",
            "random value 3    0\n",
            "random value 4    0\n",
            "dtype: int64\n",
            "random value 1    float64\n",
            "random value 2    float64\n",
            "random value 3    float64\n",
            "random value 4    float64\n",
            "dtype: object\n"
          ]
        }
      ]
    },
    {
      "cell_type": "code",
      "source": [
        "# Task 5 : Display the random value 2 and random value3 columns with location and index location method\n",
        "label_based_result = df.loc[:, ['random value 2', 'random value 3']]\n",
        "print(label_based_result)\n",
        "index_based_result = df.iloc[:, [1, 2]]\n",
        "print(index_based_result)"
      ],
      "metadata": {
        "colab": {
          "base_uri": "https://localhost:8080/"
        },
        "id": "tIpYT2DQdsYx",
        "outputId": "b3ca080b-c96d-4a16-bb17-93f985aec50e"
      },
      "execution_count": null,
      "outputs": [
        {
          "output_type": "stream",
          "name": "stdout",
          "text": [
            "   random value 2  random value 3\n",
            "0        0.228083        0.255474\n",
            "1        0.996574        0.408197\n",
            "2        0.310009        0.346541\n",
            "3        0.972665        0.909178\n",
            "   random value 2  random value 3\n",
            "0        0.228083        0.255474\n",
            "1        0.996574        0.408197\n",
            "2        0.310009        0.346541\n",
            "3        0.972665        0.909178\n"
          ]
        }
      ]
    },
    {
      "cell_type": "markdown",
      "source": [],
      "metadata": {
        "id": "987gp7PNjkSh"
      }
    }
  ]
}