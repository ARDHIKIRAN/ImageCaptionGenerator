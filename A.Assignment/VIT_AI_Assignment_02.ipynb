{
  "nbformat": 4,
  "nbformat_minor": 0,
  "metadata": {
    "colab": {
      "provenance": []
    },
    "kernelspec": {
      "name": "python3",
      "display_name": "Python 3"
    },
    "language_info": {
      "name": "python"
    }
  },
  "cells": [
    {
      "cell_type": "markdown",
      "source": [
        "**Task1 Read the dataset and do data pre-processing**"
      ],
      "metadata": {
        "id": "dNiPhDiZuWWz"
      }
    },
    {
      "cell_type": "code",
      "execution_count": null,
      "metadata": {
        "id": "qgap8ExBqnvX"
      },
      "outputs": [],
      "source": [
        "#import required libraries\n",
        "import numpy as np\n",
        "import pandas as pd\n",
        "import matplotlib.pyplot as plt\n",
        "import seaborn as sns"
      ]
    },
    {
      "cell_type": "code",
      "source": [
        "df=pd.read_csv('/content/drug200.csv')\n",
        "df.head()"
      ],
      "metadata": {
        "colab": {
          "base_uri": "https://localhost:8080/",
          "height": 358
        },
        "id": "r0qRxAJvsbiZ",
        "outputId": "b0a9cdc0-23f4-4cab-f259-0d62e25ce9e9"
      },
      "execution_count": null,
      "outputs": [
        {
          "output_type": "error",
          "ename": "FileNotFoundError",
          "evalue": "ignored",
          "traceback": [
            "\u001b[0;31m---------------------------------------------------------------------------\u001b[0m",
            "\u001b[0;31mFileNotFoundError\u001b[0m                         Traceback (most recent call last)",
            "\u001b[0;32m<ipython-input-2-1d882245171e>\u001b[0m in \u001b[0;36m<cell line: 1>\u001b[0;34m()\u001b[0m\n\u001b[0;32m----> 1\u001b[0;31m \u001b[0mdf\u001b[0m\u001b[0;34m=\u001b[0m\u001b[0mpd\u001b[0m\u001b[0;34m.\u001b[0m\u001b[0mread_csv\u001b[0m\u001b[0;34m(\u001b[0m\u001b[0;34m'/content/drug200.csv'\u001b[0m\u001b[0;34m)\u001b[0m\u001b[0;34m\u001b[0m\u001b[0;34m\u001b[0m\u001b[0m\n\u001b[0m\u001b[1;32m      2\u001b[0m \u001b[0mdf\u001b[0m\u001b[0;34m.\u001b[0m\u001b[0mhead\u001b[0m\u001b[0;34m(\u001b[0m\u001b[0;34m)\u001b[0m\u001b[0;34m\u001b[0m\u001b[0;34m\u001b[0m\u001b[0m\n",
            "\u001b[0;32m/usr/local/lib/python3.10/dist-packages/pandas/util/_decorators.py\u001b[0m in \u001b[0;36mwrapper\u001b[0;34m(*args, **kwargs)\u001b[0m\n\u001b[1;32m    209\u001b[0m                 \u001b[0;32melse\u001b[0m\u001b[0;34m:\u001b[0m\u001b[0;34m\u001b[0m\u001b[0;34m\u001b[0m\u001b[0m\n\u001b[1;32m    210\u001b[0m                     \u001b[0mkwargs\u001b[0m\u001b[0;34m[\u001b[0m\u001b[0mnew_arg_name\u001b[0m\u001b[0;34m]\u001b[0m \u001b[0;34m=\u001b[0m \u001b[0mnew_arg_value\u001b[0m\u001b[0;34m\u001b[0m\u001b[0;34m\u001b[0m\u001b[0m\n\u001b[0;32m--> 211\u001b[0;31m             \u001b[0;32mreturn\u001b[0m \u001b[0mfunc\u001b[0m\u001b[0;34m(\u001b[0m\u001b[0;34m*\u001b[0m\u001b[0margs\u001b[0m\u001b[0;34m,\u001b[0m \u001b[0;34m**\u001b[0m\u001b[0mkwargs\u001b[0m\u001b[0;34m)\u001b[0m\u001b[0;34m\u001b[0m\u001b[0;34m\u001b[0m\u001b[0m\n\u001b[0m\u001b[1;32m    212\u001b[0m \u001b[0;34m\u001b[0m\u001b[0m\n\u001b[1;32m    213\u001b[0m         \u001b[0;32mreturn\u001b[0m \u001b[0mcast\u001b[0m\u001b[0;34m(\u001b[0m\u001b[0mF\u001b[0m\u001b[0;34m,\u001b[0m \u001b[0mwrapper\u001b[0m\u001b[0;34m)\u001b[0m\u001b[0;34m\u001b[0m\u001b[0;34m\u001b[0m\u001b[0m\n",
            "\u001b[0;32m/usr/local/lib/python3.10/dist-packages/pandas/util/_decorators.py\u001b[0m in \u001b[0;36mwrapper\u001b[0;34m(*args, **kwargs)\u001b[0m\n\u001b[1;32m    329\u001b[0m                     \u001b[0mstacklevel\u001b[0m\u001b[0;34m=\u001b[0m\u001b[0mfind_stack_level\u001b[0m\u001b[0;34m(\u001b[0m\u001b[0;34m)\u001b[0m\u001b[0;34m,\u001b[0m\u001b[0;34m\u001b[0m\u001b[0;34m\u001b[0m\u001b[0m\n\u001b[1;32m    330\u001b[0m                 )\n\u001b[0;32m--> 331\u001b[0;31m             \u001b[0;32mreturn\u001b[0m \u001b[0mfunc\u001b[0m\u001b[0;34m(\u001b[0m\u001b[0;34m*\u001b[0m\u001b[0margs\u001b[0m\u001b[0;34m,\u001b[0m \u001b[0;34m**\u001b[0m\u001b[0mkwargs\u001b[0m\u001b[0;34m)\u001b[0m\u001b[0;34m\u001b[0m\u001b[0;34m\u001b[0m\u001b[0m\n\u001b[0m\u001b[1;32m    332\u001b[0m \u001b[0;34m\u001b[0m\u001b[0m\n\u001b[1;32m    333\u001b[0m         \u001b[0;31m# error: \"Callable[[VarArg(Any), KwArg(Any)], Any]\" has no\u001b[0m\u001b[0;34m\u001b[0m\u001b[0;34m\u001b[0m\u001b[0m\n",
            "\u001b[0;32m/usr/local/lib/python3.10/dist-packages/pandas/io/parsers/readers.py\u001b[0m in \u001b[0;36mread_csv\u001b[0;34m(filepath_or_buffer, sep, delimiter, header, names, index_col, usecols, squeeze, prefix, mangle_dupe_cols, dtype, engine, converters, true_values, false_values, skipinitialspace, skiprows, skipfooter, nrows, na_values, keep_default_na, na_filter, verbose, skip_blank_lines, parse_dates, infer_datetime_format, keep_date_col, date_parser, dayfirst, cache_dates, iterator, chunksize, compression, thousands, decimal, lineterminator, quotechar, quoting, doublequote, escapechar, comment, encoding, encoding_errors, dialect, error_bad_lines, warn_bad_lines, on_bad_lines, delim_whitespace, low_memory, memory_map, float_precision, storage_options)\u001b[0m\n\u001b[1;32m    948\u001b[0m     \u001b[0mkwds\u001b[0m\u001b[0;34m.\u001b[0m\u001b[0mupdate\u001b[0m\u001b[0;34m(\u001b[0m\u001b[0mkwds_defaults\u001b[0m\u001b[0;34m)\u001b[0m\u001b[0;34m\u001b[0m\u001b[0;34m\u001b[0m\u001b[0m\n\u001b[1;32m    949\u001b[0m \u001b[0;34m\u001b[0m\u001b[0m\n\u001b[0;32m--> 950\u001b[0;31m     \u001b[0;32mreturn\u001b[0m \u001b[0m_read\u001b[0m\u001b[0;34m(\u001b[0m\u001b[0mfilepath_or_buffer\u001b[0m\u001b[0;34m,\u001b[0m \u001b[0mkwds\u001b[0m\u001b[0;34m)\u001b[0m\u001b[0;34m\u001b[0m\u001b[0;34m\u001b[0m\u001b[0m\n\u001b[0m\u001b[1;32m    951\u001b[0m \u001b[0;34m\u001b[0m\u001b[0m\n\u001b[1;32m    952\u001b[0m \u001b[0;34m\u001b[0m\u001b[0m\n",
            "\u001b[0;32m/usr/local/lib/python3.10/dist-packages/pandas/io/parsers/readers.py\u001b[0m in \u001b[0;36m_read\u001b[0;34m(filepath_or_buffer, kwds)\u001b[0m\n\u001b[1;32m    603\u001b[0m \u001b[0;34m\u001b[0m\u001b[0m\n\u001b[1;32m    604\u001b[0m     \u001b[0;31m# Create the parser.\u001b[0m\u001b[0;34m\u001b[0m\u001b[0;34m\u001b[0m\u001b[0m\n\u001b[0;32m--> 605\u001b[0;31m     \u001b[0mparser\u001b[0m \u001b[0;34m=\u001b[0m \u001b[0mTextFileReader\u001b[0m\u001b[0;34m(\u001b[0m\u001b[0mfilepath_or_buffer\u001b[0m\u001b[0;34m,\u001b[0m \u001b[0;34m**\u001b[0m\u001b[0mkwds\u001b[0m\u001b[0;34m)\u001b[0m\u001b[0;34m\u001b[0m\u001b[0;34m\u001b[0m\u001b[0m\n\u001b[0m\u001b[1;32m    606\u001b[0m \u001b[0;34m\u001b[0m\u001b[0m\n\u001b[1;32m    607\u001b[0m     \u001b[0;32mif\u001b[0m \u001b[0mchunksize\u001b[0m \u001b[0;32mor\u001b[0m \u001b[0miterator\u001b[0m\u001b[0;34m:\u001b[0m\u001b[0;34m\u001b[0m\u001b[0;34m\u001b[0m\u001b[0m\n",
            "\u001b[0;32m/usr/local/lib/python3.10/dist-packages/pandas/io/parsers/readers.py\u001b[0m in \u001b[0;36m__init__\u001b[0;34m(self, f, engine, **kwds)\u001b[0m\n\u001b[1;32m   1440\u001b[0m \u001b[0;34m\u001b[0m\u001b[0m\n\u001b[1;32m   1441\u001b[0m         \u001b[0mself\u001b[0m\u001b[0;34m.\u001b[0m\u001b[0mhandles\u001b[0m\u001b[0;34m:\u001b[0m \u001b[0mIOHandles\u001b[0m \u001b[0;34m|\u001b[0m \u001b[0;32mNone\u001b[0m \u001b[0;34m=\u001b[0m \u001b[0;32mNone\u001b[0m\u001b[0;34m\u001b[0m\u001b[0;34m\u001b[0m\u001b[0m\n\u001b[0;32m-> 1442\u001b[0;31m         \u001b[0mself\u001b[0m\u001b[0;34m.\u001b[0m\u001b[0m_engine\u001b[0m \u001b[0;34m=\u001b[0m \u001b[0mself\u001b[0m\u001b[0;34m.\u001b[0m\u001b[0m_make_engine\u001b[0m\u001b[0;34m(\u001b[0m\u001b[0mf\u001b[0m\u001b[0;34m,\u001b[0m \u001b[0mself\u001b[0m\u001b[0;34m.\u001b[0m\u001b[0mengine\u001b[0m\u001b[0;34m)\u001b[0m\u001b[0;34m\u001b[0m\u001b[0;34m\u001b[0m\u001b[0m\n\u001b[0m\u001b[1;32m   1443\u001b[0m \u001b[0;34m\u001b[0m\u001b[0m\n\u001b[1;32m   1444\u001b[0m     \u001b[0;32mdef\u001b[0m \u001b[0mclose\u001b[0m\u001b[0;34m(\u001b[0m\u001b[0mself\u001b[0m\u001b[0;34m)\u001b[0m \u001b[0;34m->\u001b[0m \u001b[0;32mNone\u001b[0m\u001b[0;34m:\u001b[0m\u001b[0;34m\u001b[0m\u001b[0;34m\u001b[0m\u001b[0m\n",
            "\u001b[0;32m/usr/local/lib/python3.10/dist-packages/pandas/io/parsers/readers.py\u001b[0m in \u001b[0;36m_make_engine\u001b[0;34m(self, f, engine)\u001b[0m\n\u001b[1;32m   1733\u001b[0m                 \u001b[0;32mif\u001b[0m \u001b[0;34m\"b\"\u001b[0m \u001b[0;32mnot\u001b[0m \u001b[0;32min\u001b[0m \u001b[0mmode\u001b[0m\u001b[0;34m:\u001b[0m\u001b[0;34m\u001b[0m\u001b[0;34m\u001b[0m\u001b[0m\n\u001b[1;32m   1734\u001b[0m                     \u001b[0mmode\u001b[0m \u001b[0;34m+=\u001b[0m \u001b[0;34m\"b\"\u001b[0m\u001b[0;34m\u001b[0m\u001b[0;34m\u001b[0m\u001b[0m\n\u001b[0;32m-> 1735\u001b[0;31m             self.handles = get_handle(\n\u001b[0m\u001b[1;32m   1736\u001b[0m                 \u001b[0mf\u001b[0m\u001b[0;34m,\u001b[0m\u001b[0;34m\u001b[0m\u001b[0;34m\u001b[0m\u001b[0m\n\u001b[1;32m   1737\u001b[0m                 \u001b[0mmode\u001b[0m\u001b[0;34m,\u001b[0m\u001b[0;34m\u001b[0m\u001b[0;34m\u001b[0m\u001b[0m\n",
            "\u001b[0;32m/usr/local/lib/python3.10/dist-packages/pandas/io/common.py\u001b[0m in \u001b[0;36mget_handle\u001b[0;34m(path_or_buf, mode, encoding, compression, memory_map, is_text, errors, storage_options)\u001b[0m\n\u001b[1;32m    854\u001b[0m         \u001b[0;32mif\u001b[0m \u001b[0mioargs\u001b[0m\u001b[0;34m.\u001b[0m\u001b[0mencoding\u001b[0m \u001b[0;32mand\u001b[0m \u001b[0;34m\"b\"\u001b[0m \u001b[0;32mnot\u001b[0m \u001b[0;32min\u001b[0m \u001b[0mioargs\u001b[0m\u001b[0;34m.\u001b[0m\u001b[0mmode\u001b[0m\u001b[0;34m:\u001b[0m\u001b[0;34m\u001b[0m\u001b[0;34m\u001b[0m\u001b[0m\n\u001b[1;32m    855\u001b[0m             \u001b[0;31m# Encoding\u001b[0m\u001b[0;34m\u001b[0m\u001b[0;34m\u001b[0m\u001b[0m\n\u001b[0;32m--> 856\u001b[0;31m             handle = open(\n\u001b[0m\u001b[1;32m    857\u001b[0m                 \u001b[0mhandle\u001b[0m\u001b[0;34m,\u001b[0m\u001b[0;34m\u001b[0m\u001b[0;34m\u001b[0m\u001b[0m\n\u001b[1;32m    858\u001b[0m                 \u001b[0mioargs\u001b[0m\u001b[0;34m.\u001b[0m\u001b[0mmode\u001b[0m\u001b[0;34m,\u001b[0m\u001b[0;34m\u001b[0m\u001b[0;34m\u001b[0m\u001b[0m\n",
            "\u001b[0;31mFileNotFoundError\u001b[0m: [Errno 2] No such file or directory: '/content/drug200.csv'"
          ]
        }
      ]
    },
    {
      "cell_type": "code",
      "source": [
        "df.isnull().sum()"
      ],
      "metadata": {
        "colab": {
          "base_uri": "https://localhost:8080/"
        },
        "id": "hA-cTrknsmke",
        "outputId": "b7e1d30a-a6b0-4ed5-86e6-e67486d47ced"
      },
      "execution_count": null,
      "outputs": [
        {
          "output_type": "execute_result",
          "data": {
            "text/plain": [
              "Age            0\n",
              "Sex            0\n",
              "BP             0\n",
              "Cholesterol    0\n",
              "Na_to_K        0\n",
              "Drug           0\n",
              "dtype: int64"
            ]
          },
          "metadata": {},
          "execution_count": 7
        }
      ]
    },
    {
      "cell_type": "code",
      "source": [
        "df['Drug'].unique()"
      ],
      "metadata": {
        "colab": {
          "base_uri": "https://localhost:8080/"
        },
        "id": "QGawv582swNR",
        "outputId": "c5cf0684-6a07-4fea-ca8c-ee1690ea4800"
      },
      "execution_count": null,
      "outputs": [
        {
          "output_type": "execute_result",
          "data": {
            "text/plain": [
              "array(['DrugY', 'drugC', 'drugX', 'drugA', 'drugB'], dtype=object)"
            ]
          },
          "metadata": {},
          "execution_count": 8
        }
      ]
    },
    {
      "cell_type": "code",
      "source": [
        "df['Drug'].value_counts()"
      ],
      "metadata": {
        "colab": {
          "base_uri": "https://localhost:8080/"
        },
        "id": "WlOgJNLKtBEf",
        "outputId": "b090999d-5ab6-4fdb-9480-0aa601b11638"
      },
      "execution_count": null,
      "outputs": [
        {
          "output_type": "execute_result",
          "data": {
            "text/plain": [
              "DrugY    91\n",
              "drugX    54\n",
              "drugA    23\n",
              "drugC    16\n",
              "drugB    16\n",
              "Name: Drug, dtype: int64"
            ]
          },
          "metadata": {},
          "execution_count": 9
        }
      ]
    },
    {
      "cell_type": "code",
      "source": [
        "from sklearn.preprocessing import LabelEncoder,StandardScaler"
      ],
      "metadata": {
        "id": "qFrhobNGzLhZ"
      },
      "execution_count": null,
      "outputs": []
    },
    {
      "cell_type": "code",
      "source": [],
      "metadata": {
        "id": "vFlYPoLYspgP"
      },
      "execution_count": null,
      "outputs": []
    },
    {
      "cell_type": "code",
      "source": [
        "my_list = [1, 2, 3, 4, 5]\n",
        "print(my_list[1:3])"
      ],
      "metadata": {
        "id": "3bZNcXR4srSG"
      },
      "execution_count": null,
      "outputs": []
    },
    {
      "cell_type": "code",
      "source": [
        "le=LabelEncoder()"
      ],
      "metadata": {
        "id": "aZkeY0s44svr"
      },
      "execution_count": null,
      "outputs": []
    },
    {
      "cell_type": "code",
      "source": [
        "df['Sex']=le.fit_transform(df['Sex'])"
      ],
      "metadata": {
        "id": "mrIxrnszuyzu"
      },
      "execution_count": null,
      "outputs": []
    },
    {
      "cell_type": "code",
      "source": [
        "df['BP']=le.fit_transform(df['BP'])"
      ],
      "metadata": {
        "id": "z38qnVJVu53g"
      },
      "execution_count": null,
      "outputs": []
    },
    {
      "cell_type": "code",
      "source": [
        "df['Cholesterol']=le.fit_transform(df['Cholesterol'])"
      ],
      "metadata": {
        "id": "hCNXQz7Bu91o"
      },
      "execution_count": null,
      "outputs": []
    },
    {
      "cell_type": "code",
      "source": [
        "df['Drug']=le.fit_transform(df['Drug'])"
      ],
      "metadata": {
        "id": "dcHe7k0lNu6V"
      },
      "execution_count": null,
      "outputs": []
    },
    {
      "cell_type": "code",
      "source": [
        "x = pd.get_dummies(df.iloc[:,0:5]).values\n",
        "x"
      ],
      "metadata": {
        "colab": {
          "base_uri": "https://localhost:8080/"
        },
        "id": "glX8nA8J-hG9",
        "outputId": "41f2044e-e646-4a77-adba-279bb1f957c0"
      },
      "execution_count": null,
      "outputs": [
        {
          "output_type": "execute_result",
          "data": {
            "text/plain": [
              "array([[23.   ,  0.   ,  0.   ,  0.   , 25.355],\n",
              "       [47.   ,  1.   ,  1.   ,  0.   , 13.093],\n",
              "       [47.   ,  1.   ,  1.   ,  0.   , 10.114],\n",
              "       [28.   ,  0.   ,  2.   ,  0.   ,  7.798],\n",
              "       [61.   ,  0.   ,  1.   ,  0.   , 18.043],\n",
              "       [22.   ,  0.   ,  2.   ,  0.   ,  8.607],\n",
              "       [49.   ,  0.   ,  2.   ,  0.   , 16.275],\n",
              "       [41.   ,  1.   ,  1.   ,  0.   , 11.037],\n",
              "       [60.   ,  1.   ,  2.   ,  0.   , 15.171],\n",
              "       [43.   ,  1.   ,  1.   ,  1.   , 19.368],\n",
              "       [47.   ,  0.   ,  1.   ,  0.   , 11.767],\n",
              "       [34.   ,  0.   ,  0.   ,  1.   , 19.199],\n",
              "       [43.   ,  1.   ,  1.   ,  0.   , 15.376],\n",
              "       [74.   ,  0.   ,  1.   ,  0.   , 20.942],\n",
              "       [50.   ,  0.   ,  2.   ,  0.   , 12.703],\n",
              "       [16.   ,  0.   ,  0.   ,  1.   , 15.516],\n",
              "       [69.   ,  1.   ,  1.   ,  1.   , 11.455],\n",
              "       [43.   ,  1.   ,  0.   ,  0.   , 13.972],\n",
              "       [23.   ,  1.   ,  1.   ,  0.   ,  7.298],\n",
              "       [32.   ,  0.   ,  0.   ,  1.   , 25.974],\n",
              "       [57.   ,  1.   ,  1.   ,  1.   , 19.128],\n",
              "       [63.   ,  1.   ,  2.   ,  0.   , 25.917],\n",
              "       [47.   ,  1.   ,  1.   ,  1.   , 30.568],\n",
              "       [48.   ,  0.   ,  1.   ,  0.   , 15.036],\n",
              "       [33.   ,  0.   ,  1.   ,  0.   , 33.486],\n",
              "       [28.   ,  0.   ,  0.   ,  1.   , 18.809],\n",
              "       [31.   ,  1.   ,  0.   ,  0.   , 30.366],\n",
              "       [49.   ,  0.   ,  2.   ,  1.   ,  9.381],\n",
              "       [39.   ,  0.   ,  1.   ,  1.   , 22.697],\n",
              "       [45.   ,  1.   ,  1.   ,  0.   , 17.951],\n",
              "       [18.   ,  0.   ,  2.   ,  1.   ,  8.75 ],\n",
              "       [74.   ,  1.   ,  0.   ,  0.   ,  9.567],\n",
              "       [49.   ,  1.   ,  1.   ,  1.   , 11.014],\n",
              "       [65.   ,  0.   ,  0.   ,  1.   , 31.876],\n",
              "       [53.   ,  1.   ,  2.   ,  0.   , 14.133],\n",
              "       [46.   ,  1.   ,  2.   ,  1.   ,  7.285],\n",
              "       [32.   ,  1.   ,  0.   ,  1.   ,  9.445],\n",
              "       [39.   ,  1.   ,  1.   ,  1.   , 13.938],\n",
              "       [39.   ,  0.   ,  2.   ,  1.   ,  9.709],\n",
              "       [15.   ,  1.   ,  2.   ,  0.   ,  9.084],\n",
              "       [73.   ,  0.   ,  2.   ,  0.   , 19.221],\n",
              "       [58.   ,  0.   ,  0.   ,  1.   , 14.239],\n",
              "       [50.   ,  1.   ,  2.   ,  1.   , 15.79 ],\n",
              "       [23.   ,  1.   ,  2.   ,  0.   , 12.26 ],\n",
              "       [50.   ,  0.   ,  2.   ,  1.   , 12.295],\n",
              "       [66.   ,  0.   ,  2.   ,  1.   ,  8.107],\n",
              "       [37.   ,  0.   ,  0.   ,  0.   , 13.091],\n",
              "       [68.   ,  1.   ,  1.   ,  0.   , 10.291],\n",
              "       [23.   ,  1.   ,  2.   ,  0.   , 31.686],\n",
              "       [28.   ,  0.   ,  1.   ,  0.   , 19.796],\n",
              "       [58.   ,  0.   ,  0.   ,  0.   , 19.416],\n",
              "       [67.   ,  1.   ,  2.   ,  1.   , 10.898],\n",
              "       [62.   ,  1.   ,  1.   ,  1.   , 27.183],\n",
              "       [24.   ,  0.   ,  0.   ,  1.   , 18.457],\n",
              "       [68.   ,  0.   ,  0.   ,  1.   , 10.189],\n",
              "       [26.   ,  0.   ,  1.   ,  0.   , 14.16 ],\n",
              "       [65.   ,  1.   ,  0.   ,  1.   , 11.34 ],\n",
              "       [40.   ,  1.   ,  0.   ,  0.   , 27.826],\n",
              "       [60.   ,  1.   ,  2.   ,  1.   , 10.091],\n",
              "       [34.   ,  1.   ,  0.   ,  0.   , 18.703],\n",
              "       [38.   ,  0.   ,  1.   ,  1.   , 29.875],\n",
              "       [24.   ,  1.   ,  0.   ,  1.   ,  9.475],\n",
              "       [67.   ,  1.   ,  1.   ,  1.   , 20.693],\n",
              "       [45.   ,  1.   ,  1.   ,  1.   ,  8.37 ],\n",
              "       [60.   ,  0.   ,  0.   ,  0.   , 13.303],\n",
              "       [68.   ,  0.   ,  2.   ,  1.   , 27.05 ],\n",
              "       [29.   ,  1.   ,  0.   ,  0.   , 12.856],\n",
              "       [17.   ,  1.   ,  2.   ,  1.   , 10.832],\n",
              "       [54.   ,  1.   ,  2.   ,  0.   , 24.658],\n",
              "       [18.   ,  0.   ,  0.   ,  1.   , 24.276],\n",
              "       [70.   ,  1.   ,  0.   ,  0.   , 13.967],\n",
              "       [28.   ,  0.   ,  2.   ,  0.   , 19.675],\n",
              "       [24.   ,  0.   ,  2.   ,  0.   , 10.605],\n",
              "       [41.   ,  0.   ,  2.   ,  1.   , 22.905],\n",
              "       [31.   ,  1.   ,  0.   ,  1.   , 17.069],\n",
              "       [26.   ,  1.   ,  1.   ,  1.   , 20.909],\n",
              "       [36.   ,  0.   ,  0.   ,  0.   , 11.198],\n",
              "       [26.   ,  0.   ,  0.   ,  1.   , 19.161],\n",
              "       [19.   ,  0.   ,  0.   ,  0.   , 13.313],\n",
              "       [32.   ,  0.   ,  1.   ,  1.   , 10.84 ],\n",
              "       [60.   ,  1.   ,  0.   ,  0.   , 13.934],\n",
              "       [64.   ,  1.   ,  2.   ,  0.   ,  7.761],\n",
              "       [32.   ,  0.   ,  1.   ,  0.   ,  9.712],\n",
              "       [38.   ,  0.   ,  0.   ,  1.   , 11.326],\n",
              "       [47.   ,  0.   ,  1.   ,  0.   , 10.067],\n",
              "       [59.   ,  1.   ,  0.   ,  0.   , 13.935],\n",
              "       [51.   ,  0.   ,  2.   ,  0.   , 13.597],\n",
              "       [69.   ,  1.   ,  1.   ,  0.   , 15.478],\n",
              "       [37.   ,  0.   ,  0.   ,  1.   , 23.091],\n",
              "       [50.   ,  0.   ,  2.   ,  1.   , 17.211],\n",
              "       [62.   ,  1.   ,  2.   ,  0.   , 16.594],\n",
              "       [41.   ,  1.   ,  0.   ,  1.   , 15.156],\n",
              "       [29.   ,  0.   ,  0.   ,  0.   , 29.45 ],\n",
              "       [42.   ,  0.   ,  1.   ,  1.   , 29.271],\n",
              "       [56.   ,  1.   ,  1.   ,  0.   , 15.015],\n",
              "       [36.   ,  1.   ,  1.   ,  1.   , 11.424],\n",
              "       [58.   ,  0.   ,  1.   ,  0.   , 38.247],\n",
              "       [56.   ,  0.   ,  0.   ,  0.   , 25.395],\n",
              "       [20.   ,  1.   ,  0.   ,  1.   , 35.639],\n",
              "       [15.   ,  0.   ,  0.   ,  1.   , 16.725],\n",
              "       [31.   ,  1.   ,  0.   ,  1.   , 11.871],\n",
              "       [45.   ,  0.   ,  0.   ,  0.   , 12.854],\n",
              "       [28.   ,  0.   ,  1.   ,  0.   , 13.127],\n",
              "       [56.   ,  1.   ,  2.   ,  0.   ,  8.966],\n",
              "       [22.   ,  1.   ,  0.   ,  1.   , 28.294],\n",
              "       [37.   ,  1.   ,  1.   ,  1.   ,  8.968],\n",
              "       [22.   ,  1.   ,  2.   ,  0.   , 11.953],\n",
              "       [42.   ,  1.   ,  1.   ,  0.   , 20.013],\n",
              "       [72.   ,  1.   ,  0.   ,  1.   ,  9.677],\n",
              "       [23.   ,  1.   ,  2.   ,  0.   , 16.85 ],\n",
              "       [50.   ,  1.   ,  0.   ,  0.   ,  7.49 ],\n",
              "       [47.   ,  0.   ,  2.   ,  1.   ,  6.683],\n",
              "       [35.   ,  1.   ,  1.   ,  1.   ,  9.17 ],\n",
              "       [65.   ,  0.   ,  1.   ,  1.   , 13.769],\n",
              "       [20.   ,  0.   ,  2.   ,  1.   ,  9.281],\n",
              "       [51.   ,  1.   ,  0.   ,  0.   , 18.295],\n",
              "       [67.   ,  1.   ,  2.   ,  1.   ,  9.514],\n",
              "       [40.   ,  0.   ,  2.   ,  0.   , 10.103],\n",
              "       [32.   ,  0.   ,  0.   ,  1.   , 10.292],\n",
              "       [61.   ,  0.   ,  0.   ,  0.   , 25.475],\n",
              "       [28.   ,  1.   ,  2.   ,  0.   , 27.064],\n",
              "       [15.   ,  1.   ,  0.   ,  1.   , 17.206],\n",
              "       [34.   ,  1.   ,  2.   ,  0.   , 22.456],\n",
              "       [36.   ,  0.   ,  2.   ,  0.   , 16.753],\n",
              "       [53.   ,  0.   ,  0.   ,  1.   , 12.495],\n",
              "       [19.   ,  0.   ,  0.   ,  1.   , 25.969],\n",
              "       [66.   ,  1.   ,  0.   ,  0.   , 16.347],\n",
              "       [35.   ,  1.   ,  2.   ,  1.   ,  7.845],\n",
              "       [47.   ,  1.   ,  1.   ,  1.   , 33.542],\n",
              "       [32.   ,  0.   ,  2.   ,  0.   ,  7.477],\n",
              "       [70.   ,  0.   ,  2.   ,  0.   , 20.489],\n",
              "       [52.   ,  1.   ,  1.   ,  1.   , 32.922],\n",
              "       [49.   ,  1.   ,  1.   ,  1.   , 13.598],\n",
              "       [24.   ,  1.   ,  2.   ,  0.   , 25.786],\n",
              "       [42.   ,  0.   ,  0.   ,  0.   , 21.036],\n",
              "       [74.   ,  1.   ,  1.   ,  1.   , 11.939],\n",
              "       [55.   ,  0.   ,  0.   ,  0.   , 10.977],\n",
              "       [35.   ,  0.   ,  0.   ,  0.   , 12.894],\n",
              "       [51.   ,  1.   ,  0.   ,  1.   , 11.343],\n",
              "       [69.   ,  0.   ,  2.   ,  0.   , 10.065],\n",
              "       [49.   ,  1.   ,  0.   ,  1.   ,  6.269],\n",
              "       [64.   ,  0.   ,  1.   ,  1.   , 25.741],\n",
              "       [60.   ,  1.   ,  0.   ,  1.   ,  8.621],\n",
              "       [74.   ,  1.   ,  0.   ,  1.   , 15.436],\n",
              "       [39.   ,  1.   ,  0.   ,  0.   ,  9.664],\n",
              "       [61.   ,  1.   ,  2.   ,  0.   ,  9.443],\n",
              "       [37.   ,  0.   ,  1.   ,  1.   , 12.006],\n",
              "       [26.   ,  0.   ,  0.   ,  1.   , 12.307],\n",
              "       [61.   ,  0.   ,  1.   ,  1.   ,  7.34 ],\n",
              "       [22.   ,  1.   ,  1.   ,  0.   ,  8.151],\n",
              "       [49.   ,  1.   ,  0.   ,  1.   ,  8.7  ],\n",
              "       [68.   ,  1.   ,  0.   ,  0.   , 11.009],\n",
              "       [55.   ,  1.   ,  2.   ,  1.   ,  7.261],\n",
              "       [72.   ,  0.   ,  1.   ,  1.   , 14.642],\n",
              "       [37.   ,  1.   ,  1.   ,  1.   , 16.724],\n",
              "       [49.   ,  1.   ,  1.   ,  0.   , 10.537],\n",
              "       [31.   ,  1.   ,  0.   ,  1.   , 11.227],\n",
              "       [53.   ,  1.   ,  1.   ,  0.   , 22.963],\n",
              "       [59.   ,  0.   ,  1.   ,  0.   , 10.444],\n",
              "       [34.   ,  0.   ,  1.   ,  1.   , 12.923],\n",
              "       [30.   ,  0.   ,  2.   ,  0.   , 10.443],\n",
              "       [57.   ,  0.   ,  0.   ,  1.   ,  9.945],\n",
              "       [43.   ,  1.   ,  2.   ,  1.   , 12.859],\n",
              "       [21.   ,  0.   ,  0.   ,  1.   , 28.632],\n",
              "       [16.   ,  1.   ,  0.   ,  1.   , 19.007],\n",
              "       [38.   ,  1.   ,  1.   ,  0.   , 18.295],\n",
              "       [58.   ,  0.   ,  1.   ,  0.   , 26.645],\n",
              "       [57.   ,  0.   ,  2.   ,  0.   , 14.216],\n",
              "       [51.   ,  0.   ,  1.   ,  1.   , 23.003],\n",
              "       [20.   ,  0.   ,  0.   ,  0.   , 11.262],\n",
              "       [28.   ,  0.   ,  2.   ,  0.   , 12.879],\n",
              "       [45.   ,  1.   ,  1.   ,  1.   , 10.017],\n",
              "       [39.   ,  0.   ,  2.   ,  1.   , 17.225],\n",
              "       [41.   ,  0.   ,  1.   ,  1.   , 18.739],\n",
              "       [42.   ,  1.   ,  0.   ,  1.   , 12.766],\n",
              "       [73.   ,  0.   ,  0.   ,  0.   , 18.348],\n",
              "       [48.   ,  1.   ,  0.   ,  1.   , 10.446],\n",
              "       [25.   ,  1.   ,  2.   ,  0.   , 19.011],\n",
              "       [39.   ,  1.   ,  2.   ,  0.   , 15.969],\n",
              "       [67.   ,  0.   ,  2.   ,  0.   , 15.891],\n",
              "       [22.   ,  0.   ,  0.   ,  1.   , 22.818],\n",
              "       [59.   ,  0.   ,  2.   ,  0.   , 13.884],\n",
              "       [20.   ,  0.   ,  1.   ,  1.   , 11.686],\n",
              "       [36.   ,  0.   ,  0.   ,  1.   , 15.49 ],\n",
              "       [18.   ,  0.   ,  0.   ,  0.   , 37.188],\n",
              "       [57.   ,  0.   ,  2.   ,  1.   , 25.893],\n",
              "       [70.   ,  1.   ,  0.   ,  0.   ,  9.849],\n",
              "       [47.   ,  1.   ,  0.   ,  0.   , 10.403],\n",
              "       [65.   ,  1.   ,  0.   ,  1.   , 34.997],\n",
              "       [64.   ,  1.   ,  0.   ,  1.   , 20.932],\n",
              "       [58.   ,  1.   ,  0.   ,  0.   , 18.991],\n",
              "       [23.   ,  1.   ,  0.   ,  0.   ,  8.011],\n",
              "       [72.   ,  1.   ,  1.   ,  0.   , 16.31 ],\n",
              "       [72.   ,  1.   ,  1.   ,  0.   ,  6.769],\n",
              "       [46.   ,  0.   ,  0.   ,  0.   , 34.686],\n",
              "       [56.   ,  0.   ,  1.   ,  0.   , 11.567],\n",
              "       [16.   ,  1.   ,  1.   ,  0.   , 12.006],\n",
              "       [52.   ,  1.   ,  2.   ,  0.   ,  9.894],\n",
              "       [23.   ,  1.   ,  2.   ,  1.   , 14.02 ],\n",
              "       [40.   ,  0.   ,  1.   ,  1.   , 11.349]])"
            ]
          },
          "metadata": {},
          "execution_count": 35
        }
      ]
    },
    {
      "cell_type": "code",
      "source": [
        "y = df.iloc[:,5:].values\n",
        "y\n"
      ],
      "metadata": {
        "id": "OYOrhYKVtwij",
        "colab": {
          "base_uri": "https://localhost:8080/"
        },
        "outputId": "60267362-5753-4f61-d9d5-ec98766bb19c"
      },
      "execution_count": null,
      "outputs": [
        {
          "output_type": "execute_result",
          "data": {
            "text/plain": [
              "array([[0],\n",
              "       [3],\n",
              "       [3],\n",
              "       [4],\n",
              "       [0],\n",
              "       [4],\n",
              "       [0],\n",
              "       [3],\n",
              "       [0],\n",
              "       [0],\n",
              "       [3],\n",
              "       [0],\n",
              "       [0],\n",
              "       [0],\n",
              "       [4],\n",
              "       [0],\n",
              "       [4],\n",
              "       [1],\n",
              "       [3],\n",
              "       [0],\n",
              "       [0],\n",
              "       [0],\n",
              "       [0],\n",
              "       [0],\n",
              "       [0],\n",
              "       [0],\n",
              "       [0],\n",
              "       [4],\n",
              "       [0],\n",
              "       [0],\n",
              "       [4],\n",
              "       [2],\n",
              "       [4],\n",
              "       [0],\n",
              "       [4],\n",
              "       [4],\n",
              "       [1],\n",
              "       [4],\n",
              "       [4],\n",
              "       [4],\n",
              "       [0],\n",
              "       [2],\n",
              "       [0],\n",
              "       [4],\n",
              "       [4],\n",
              "       [4],\n",
              "       [1],\n",
              "       [3],\n",
              "       [0],\n",
              "       [0],\n",
              "       [0],\n",
              "       [4],\n",
              "       [0],\n",
              "       [0],\n",
              "       [2],\n",
              "       [3],\n",
              "       [2],\n",
              "       [0],\n",
              "       [4],\n",
              "       [0],\n",
              "       [0],\n",
              "       [1],\n",
              "       [0],\n",
              "       [4],\n",
              "       [2],\n",
              "       [0],\n",
              "       [1],\n",
              "       [4],\n",
              "       [0],\n",
              "       [0],\n",
              "       [2],\n",
              "       [0],\n",
              "       [4],\n",
              "       [0],\n",
              "       [0],\n",
              "       [0],\n",
              "       [1],\n",
              "       [0],\n",
              "       [1],\n",
              "       [4],\n",
              "       [2],\n",
              "       [4],\n",
              "       [3],\n",
              "       [1],\n",
              "       [3],\n",
              "       [2],\n",
              "       [4],\n",
              "       [0],\n",
              "       [0],\n",
              "       [0],\n",
              "       [0],\n",
              "       [0],\n",
              "       [0],\n",
              "       [0],\n",
              "       [0],\n",
              "       [4],\n",
              "       [0],\n",
              "       [0],\n",
              "       [0],\n",
              "       [0],\n",
              "       [1],\n",
              "       [1],\n",
              "       [3],\n",
              "       [4],\n",
              "       [0],\n",
              "       [4],\n",
              "       [4],\n",
              "       [0],\n",
              "       [2],\n",
              "       [0],\n",
              "       [1],\n",
              "       [4],\n",
              "       [4],\n",
              "       [4],\n",
              "       [4],\n",
              "       [0],\n",
              "       [4],\n",
              "       [4],\n",
              "       [1],\n",
              "       [0],\n",
              "       [0],\n",
              "       [0],\n",
              "       [0],\n",
              "       [0],\n",
              "       [2],\n",
              "       [0],\n",
              "       [0],\n",
              "       [4],\n",
              "       [0],\n",
              "       [4],\n",
              "       [0],\n",
              "       [0],\n",
              "       [4],\n",
              "       [0],\n",
              "       [0],\n",
              "       [4],\n",
              "       [2],\n",
              "       [1],\n",
              "       [2],\n",
              "       [4],\n",
              "       [1],\n",
              "       [0],\n",
              "       [2],\n",
              "       [0],\n",
              "       [1],\n",
              "       [4],\n",
              "       [4],\n",
              "       [1],\n",
              "       [4],\n",
              "       [3],\n",
              "       [1],\n",
              "       [2],\n",
              "       [4],\n",
              "       [4],\n",
              "       [0],\n",
              "       [3],\n",
              "       [1],\n",
              "       [0],\n",
              "       [3],\n",
              "       [4],\n",
              "       [4],\n",
              "       [2],\n",
              "       [4],\n",
              "       [0],\n",
              "       [0],\n",
              "       [0],\n",
              "       [0],\n",
              "       [4],\n",
              "       [0],\n",
              "       [1],\n",
              "       [4],\n",
              "       [4],\n",
              "       [0],\n",
              "       [0],\n",
              "       [1],\n",
              "       [0],\n",
              "       [1],\n",
              "       [0],\n",
              "       [0],\n",
              "       [0],\n",
              "       [0],\n",
              "       [4],\n",
              "       [4],\n",
              "       [0],\n",
              "       [0],\n",
              "       [0],\n",
              "       [2],\n",
              "       [1],\n",
              "       [0],\n",
              "       [0],\n",
              "       [0],\n",
              "       [1],\n",
              "       [0],\n",
              "       [3],\n",
              "       [0],\n",
              "       [3],\n",
              "       [3],\n",
              "       [4],\n",
              "       [4],\n",
              "       [4]])"
            ]
          },
          "metadata": {},
          "execution_count": 36
        }
      ]
    },
    {
      "cell_type": "code",
      "source": [
        "#import the libraries\n",
        "from sklearn.model_selection import train_test_split"
      ],
      "metadata": {
        "id": "KjTYRhhXuDTH"
      },
      "execution_count": null,
      "outputs": []
    },
    {
      "cell_type": "code",
      "source": [
        "#Split the training and testing data\n",
        "xtrain,xtest,ytrain,ytest = train_test_split(x,y,test_size=0.2,random_state=21)"
      ],
      "metadata": {
        "id": "T51N6mDou9R4"
      },
      "execution_count": null,
      "outputs": []
    },
    {
      "cell_type": "code",
      "source": [
        "xtrain.shape, xtest.shape, ytrain.shape, ytest.shape"
      ],
      "metadata": {
        "colab": {
          "base_uri": "https://localhost:8080/"
        },
        "id": "_JrzumjxvJsA",
        "outputId": "4453248d-dedd-43de-9b2c-60aab1913557"
      },
      "execution_count": null,
      "outputs": [
        {
          "output_type": "execute_result",
          "data": {
            "text/plain": [
              "((160, 5), (40, 5), (160, 1), (40, 1))"
            ]
          },
          "metadata": {},
          "execution_count": 48
        }
      ]
    },
    {
      "cell_type": "code",
      "source": [
        "scaler=StandardScaler()\n",
        "xtrain=scaler.fit_transform(xtrain)\n",
        "xtest=scaler.transform(xtest)"
      ],
      "metadata": {
        "id": "OTSpQgz3KbT6"
      },
      "execution_count": null,
      "outputs": []
    },
    {
      "cell_type": "markdown",
      "source": [
        "**Task 2  Build an ANN Model(with input layes,min 3 hidden layers&output layer)**"
      ],
      "metadata": {
        "id": "vjClTDwSvmMk"
      }
    },
    {
      "cell_type": "code",
      "source": [
        "# Build an ANN model\n",
        "from tensorflow.keras.models import Sequential\n",
        "from tensorflow.keras.layers import Dense"
      ],
      "metadata": {
        "id": "mZAgws9lvlUF"
      },
      "execution_count": null,
      "outputs": []
    },
    {
      "cell_type": "code",
      "source": [
        "# ANN Model\n",
        "model = Sequential()\n",
        "model.add(Dense(8,activation='relu',input_shape=(xtrain.shape[1],)))#input layer\n",
        "model.add(Dense(32,activation='relu'))#1st hidden layer\n",
        "model.add(Dense(26,activation='relu'))#2nd hidden layer\n",
        "model.add(Dense(16,activation='relu'))#3rd hidden layer\n",
        "model.add(Dense(5,activation='softmax'))#Output layer"
      ],
      "metadata": {
        "id": "0BUxF4S2wE6O"
      },
      "execution_count": null,
      "outputs": []
    },
    {
      "cell_type": "code",
      "source": [
        "model.compile(optimizer='adam',loss='sparse_categorical_crossentropy',metrics=['accuracy'])"
      ],
      "metadata": {
        "id": "7Z7PlPrFw-Fx"
      },
      "execution_count": null,
      "outputs": []
    },
    {
      "cell_type": "code",
      "source": [
        "model.summary()"
      ],
      "metadata": {
        "colab": {
          "base_uri": "https://localhost:8080/"
        },
        "id": "VK4Qi7BwxG3J",
        "outputId": "024f5297-f492-465f-9b32-527a9ed29811"
      },
      "execution_count": null,
      "outputs": [
        {
          "output_type": "stream",
          "name": "stdout",
          "text": [
            "Model: \"sequential_4\"\n",
            "_________________________________________________________________\n",
            " Layer (type)                Output Shape              Param #   \n",
            "=================================================================\n",
            " dense_20 (Dense)            (None, 8)                 48        \n",
            "                                                                 \n",
            " dense_21 (Dense)            (None, 32)                288       \n",
            "                                                                 \n",
            " dense_22 (Dense)            (None, 26)                858       \n",
            "                                                                 \n",
            " dense_23 (Dense)            (None, 16)                432       \n",
            "                                                                 \n",
            " dense_24 (Dense)            (None, 5)                 85        \n",
            "                                                                 \n",
            "=================================================================\n",
            "Total params: 1,711\n",
            "Trainable params: 1,711\n",
            "Non-trainable params: 0\n",
            "_________________________________________________________________\n"
          ]
        }
      ]
    },
    {
      "cell_type": "code",
      "source": [
        "model.fit(xtrain,ytrain,epochs=25,batch_size=5,verbose=1)"
      ],
      "metadata": {
        "colab": {
          "base_uri": "https://localhost:8080/"
        },
        "id": "V2hGZHJ3x6UM",
        "outputId": "17d4f42b-fcef-49da-da3f-32d974fc6eb8"
      },
      "execution_count": null,
      "outputs": [
        {
          "output_type": "stream",
          "name": "stdout",
          "text": [
            "Epoch 1/25\n",
            "32/32 [==============================] - 1s 2ms/step - loss: 3.6957 - accuracy: 0.2375\n",
            "Epoch 2/25\n",
            "32/32 [==============================] - 0s 2ms/step - loss: 1.4129 - accuracy: 0.5188\n",
            "Epoch 3/25\n",
            "32/32 [==============================] - 0s 2ms/step - loss: 1.3290 - accuracy: 0.5250\n",
            "Epoch 4/25\n",
            "32/32 [==============================] - 0s 2ms/step - loss: 1.3378 - accuracy: 0.5375\n",
            "Epoch 5/25\n",
            "32/32 [==============================] - 0s 2ms/step - loss: 1.2668 - accuracy: 0.5750\n",
            "Epoch 6/25\n",
            "32/32 [==============================] - 0s 2ms/step - loss: 1.2505 - accuracy: 0.5375\n",
            "Epoch 7/25\n",
            "32/32 [==============================] - 0s 2ms/step - loss: 1.2209 - accuracy: 0.5312\n",
            "Epoch 8/25\n",
            "32/32 [==============================] - 0s 2ms/step - loss: 1.1765 - accuracy: 0.5750\n",
            "Epoch 9/25\n",
            "32/32 [==============================] - 0s 2ms/step - loss: 1.1137 - accuracy: 0.5750\n",
            "Epoch 10/25\n",
            "32/32 [==============================] - 0s 2ms/step - loss: 1.0825 - accuracy: 0.5938\n",
            "Epoch 11/25\n",
            "32/32 [==============================] - 0s 2ms/step - loss: 1.0638 - accuracy: 0.6000\n",
            "Epoch 12/25\n",
            "32/32 [==============================] - 0s 2ms/step - loss: 1.0242 - accuracy: 0.6062\n",
            "Epoch 13/25\n",
            "32/32 [==============================] - 0s 2ms/step - loss: 1.0206 - accuracy: 0.6125\n",
            "Epoch 14/25\n",
            "32/32 [==============================] - 0s 2ms/step - loss: 0.9967 - accuracy: 0.6062\n",
            "Epoch 15/25\n",
            "32/32 [==============================] - 0s 2ms/step - loss: 0.9997 - accuracy: 0.6438\n",
            "Epoch 16/25\n",
            "32/32 [==============================] - 0s 2ms/step - loss: 0.9565 - accuracy: 0.6313\n",
            "Epoch 17/25\n",
            "32/32 [==============================] - 0s 2ms/step - loss: 0.9704 - accuracy: 0.6500\n",
            "Epoch 18/25\n",
            "32/32 [==============================] - 0s 2ms/step - loss: 0.9130 - accuracy: 0.6875\n",
            "Epoch 19/25\n",
            "32/32 [==============================] - 0s 2ms/step - loss: 0.9348 - accuracy: 0.6562\n",
            "Epoch 20/25\n",
            "32/32 [==============================] - 0s 2ms/step - loss: 0.8879 - accuracy: 0.6812\n",
            "Epoch 21/25\n",
            "32/32 [==============================] - 0s 2ms/step - loss: 0.8662 - accuracy: 0.6750\n",
            "Epoch 22/25\n",
            "32/32 [==============================] - 0s 2ms/step - loss: 0.8426 - accuracy: 0.6938\n",
            "Epoch 23/25\n",
            "32/32 [==============================] - 0s 2ms/step - loss: 0.8852 - accuracy: 0.6687\n",
            "Epoch 24/25\n",
            "32/32 [==============================] - 0s 2ms/step - loss: 0.8489 - accuracy: 0.7063\n",
            "Epoch 25/25\n",
            "32/32 [==============================] - 0s 2ms/step - loss: 0.7818 - accuracy: 0.6875\n"
          ]
        },
        {
          "output_type": "execute_result",
          "data": {
            "text/plain": [
              "<keras.callbacks.History at 0x7f4fc0e1a620>"
            ]
          },
          "metadata": {},
          "execution_count": 60
        }
      ]
    },
    {
      "cell_type": "markdown",
      "source": [
        "**Task 3 Test the model with random data**"
      ],
      "metadata": {
        "id": "82Kb_uKkQCfx"
      }
    },
    {
      "cell_type": "code",
      "source": [
        "data=np.array([[47,1,1,0,13.093]])\n",
        "ypred=model.predict(data)\n",
        "pred_labels=le.inverse_transform(np.argmax(ypred,axis=1))\n",
        "print(\"Predicted Drug Class:\", pred_labels)"
      ],
      "metadata": {
        "colab": {
          "base_uri": "https://localhost:8080/"
        },
        "id": "6C4M4IcUQWGb",
        "outputId": "e425f37f-684e-4300-a68b-a8cfab5fa055"
      },
      "execution_count": null,
      "outputs": [
        {
          "output_type": "stream",
          "name": "stdout",
          "text": [
            "1/1 [==============================] - 0s 74ms/step\n",
            "Predicted Drug Class: ['drugX']\n"
          ]
        }
      ]
    }
  ]
}